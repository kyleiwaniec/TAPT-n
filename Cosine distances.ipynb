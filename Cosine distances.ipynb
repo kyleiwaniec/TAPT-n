{
 "cells": [
  {
   "cell_type": "markdown",
   "metadata": {},
   "source": [
    "# Efficient Cosine similarities"
   ]
  },
  {
   "cell_type": "markdown",
   "metadata": {},
   "source": [
    "## With PyTorch"
   ]
  },
  {
   "cell_type": "code",
   "execution_count": 27,
   "metadata": {},
   "outputs": [],
   "source": [
    "import torch\n",
    "import numpy as np"
   ]
  },
  {
   "cell_type": "code",
   "execution_count": 28,
   "metadata": {},
   "outputs": [
    {
     "data": {
      "text/plain": [
       "False"
      ]
     },
     "execution_count": 28,
     "metadata": {},
     "output_type": "execute_result"
    }
   ],
   "source": [
    "torch.cuda.is_available()"
   ]
  },
  {
   "cell_type": "code",
   "execution_count": 29,
   "metadata": {},
   "outputs": [
    {
     "name": "stdout",
     "output_type": "stream",
     "text": [
      "cpu\n"
     ]
    }
   ],
   "source": [
    "device = torch.device(\"cuda:0\" if torch.cuda.is_available() else \"cpu\")\n",
    "print(device)\n"
   ]
  },
  {
   "cell_type": "code",
   "execution_count": 102,
   "metadata": {},
   "outputs": [],
   "source": [
    "a = torch.randn(2, 10).to(device)\n",
    "b = torch.randn(3, 10).to(device) # different row number, for the fun"
   ]
  },
  {
   "cell_type": "code",
   "execution_count": 103,
   "metadata": {},
   "outputs": [
    {
     "name": "stdout",
     "output_type": "stream",
     "text": [
      "41.1 µs ± 659 ns per loop (mean ± std. dev. of 7 runs, 10000 loops each)\n"
     ]
    }
   ],
   "source": [
    "%%timeit\n",
    "a_norm = a / a.norm(dim=1)[:, None]\n",
    "b_norm = b / b.norm(dim=1)[:, None]\n",
    "res = torch.mm(a_norm, b_norm.transpose(0,1))"
   ]
  },
  {
   "cell_type": "code",
   "execution_count": 115,
   "metadata": {},
   "outputs": [
    {
     "name": "stdout",
     "output_type": "stream",
     "text": [
      "tensor([[ 0.1189,  0.0432, -0.4907],\n",
      "        [-0.0593,  0.1020, -0.4319]])\n"
     ]
    }
   ],
   "source": [
    "a_norm = a / a.norm(dim=1)[:, None]\n",
    "b_norm = b / b.norm(dim=1)[:, None]\n",
    "res = torch.mm(a_norm, b_norm.transpose(0,1))\n",
    "print(res)"
   ]
  },
  {
   "cell_type": "markdown",
   "metadata": {},
   "source": [
    "## With numpy"
   ]
  },
  {
   "cell_type": "code",
   "execution_count": 105,
   "metadata": {},
   "outputs": [],
   "source": [
    "A = a.cpu().detach().numpy()\n",
    "B = b.cpu().detach().numpy()"
   ]
  },
  {
   "cell_type": "code",
   "execution_count": 117,
   "metadata": {},
   "outputs": [
    {
     "name": "stdout",
     "output_type": "stream",
     "text": [
      "14.1 µs ± 607 ns per loop (mean ± std. dev. of 7 runs, 100000 loops each)\n"
     ]
    }
   ],
   "source": [
    "%%timeit\n",
    "dots = np.dot(A,B.T)\n",
    "l2norms = np.sqrt(((A**2).sum(1)[:,None])*((B**2).sum(1)))\n",
    "similarity_scores = (dots/l2norms)"
   ]
  },
  {
   "cell_type": "code",
   "execution_count": 116,
   "metadata": {},
   "outputs": [
    {
     "name": "stdout",
     "output_type": "stream",
     "text": [
      "[[ 0.11893534  0.04317652 -0.49073324]\n",
      " [-0.05932184  0.10199047 -0.4318895 ]]\n"
     ]
    }
   ],
   "source": [
    "dots = np.dot(A,B.T)\n",
    "l2norms = np.sqrt(((A**2).sum(1)[:,None])*((B**2).sum(1)))\n",
    "similarity_scores = (dots/l2norms)\n",
    "print(similarity_scores)"
   ]
  },
  {
   "cell_type": "markdown",
   "metadata": {},
   "source": [
    "## Compare to sklearn or scipy"
   ]
  },
  {
   "cell_type": "code",
   "execution_count": 108,
   "metadata": {},
   "outputs": [],
   "source": [
    "from sklearn.metrics.pairwise import cosine_similarity"
   ]
  },
  {
   "cell_type": "code",
   "execution_count": 118,
   "metadata": {},
   "outputs": [
    {
     "name": "stdout",
     "output_type": "stream",
     "text": [
      "205 µs ± 6.59 µs per loop (mean ± std. dev. of 7 runs, 1000 loops each)\n"
     ]
    }
   ],
   "source": [
    "%%timeit\n",
    "cosine_similarity(A,B)"
   ]
  },
  {
   "cell_type": "code",
   "execution_count": 110,
   "metadata": {},
   "outputs": [
    {
     "data": {
      "text/plain": [
       "array([[ 0.11893529,  0.04317654, -0.4907333 ],\n",
       "       [-0.05932185,  0.10199045, -0.43188953]], dtype=float32)"
      ]
     },
     "execution_count": 110,
     "metadata": {},
     "output_type": "execute_result"
    }
   ],
   "source": [
    "cosine_similarity(a,b)"
   ]
  },
  {
   "cell_type": "code",
   "execution_count": 111,
   "metadata": {},
   "outputs": [],
   "source": [
    "from scipy.spatial.distance import cosine as cosine_distance"
   ]
  },
  {
   "cell_type": "code",
   "execution_count": 112,
   "metadata": {},
   "outputs": [
    {
     "name": "stdout",
     "output_type": "stream",
     "text": [
      "402 µs ± 124 µs per loop (mean ± std. dev. of 7 runs, 1000 loops each)\n"
     ]
    }
   ],
   "source": [
    "%%timeit\n",
    "distances=[]\n",
    "for vec_a in A:\n",
    "    for vec_b in B:\n",
    "        distances.append(cosine_distance(vec_a,vec_b))"
   ]
  },
  {
   "cell_type": "code",
   "execution_count": 113,
   "metadata": {},
   "outputs": [
    {
     "data": {
      "text/plain": [
       "[0.11893530935049057,\n",
       " 0.04317651689052582,\n",
       " -0.49073323607444763,\n",
       " -0.059321850538253784,\n",
       " 0.1019904762506485,\n",
       " -0.43188953399658203]"
      ]
     },
     "execution_count": 113,
     "metadata": {},
     "output_type": "execute_result"
    }
   ],
   "source": [
    "distances=[]\n",
    "for vec_a in A:\n",
    "    for vec_b in B:\n",
    "        distances.append(1-cosine_distance(vec_a,vec_b))\n",
    "distances"
   ]
  },
  {
   "cell_type": "code",
   "execution_count": 120,
   "metadata": {},
   "outputs": [],
   "source": [
    "import pandas as pd"
   ]
  },
  {
   "cell_type": "code",
   "execution_count": 122,
   "metadata": {},
   "outputs": [],
   "source": [
    "df = pd.read_csv('f250000.csv')"
   ]
  },
  {
   "cell_type": "code",
   "execution_count": 123,
   "metadata": {},
   "outputs": [
    {
     "data": {
      "text/html": [
       "<div>\n",
       "<style scoped>\n",
       "    .dataframe tbody tr th:only-of-type {\n",
       "        vertical-align: middle;\n",
       "    }\n",
       "\n",
       "    .dataframe tbody tr th {\n",
       "        vertical-align: top;\n",
       "    }\n",
       "\n",
       "    .dataframe thead th {\n",
       "        text-align: right;\n",
       "    }\n",
       "</style>\n",
       "<table border=\"1\" class=\"dataframe\">\n",
       "  <thead>\n",
       "    <tr style=\"text-align: right;\">\n",
       "      <th></th>\n",
       "      <th>Unnamed: 0</th>\n",
       "      <th>0</th>\n",
       "      <th>1</th>\n",
       "      <th>2</th>\n",
       "      <th>3</th>\n",
       "      <th>4</th>\n",
       "      <th>5</th>\n",
       "    </tr>\n",
       "  </thead>\n",
       "  <tbody>\n",
       "    <tr>\n",
       "      <th>0</th>\n",
       "      <td>0</td>\n",
       "      <td>BB52BEE967694542B309F1924878C1D8206</td>\n",
       "      <td>[array([-0.22878039, -0.41120726, -0.5793576 ,...</td>\n",
       "      <td>0.000660</td>\n",
       "      <td>0.000660</td>\n",
       "      <td>5</td>\n",
       "      <td>5</td>\n",
       "    </tr>\n",
       "    <tr>\n",
       "      <th>1</th>\n",
       "      <td>1</td>\n",
       "      <td>169FC71888B64710B6CA2836A73D2BFA206</td>\n",
       "      <td>[array([-0.22317335, -0.3341324 , -0.5560438 ,...</td>\n",
       "      <td>0.001082</td>\n",
       "      <td>0.000780</td>\n",
       "      <td>19</td>\n",
       "      <td>11</td>\n",
       "    </tr>\n",
       "    <tr>\n",
       "      <th>2</th>\n",
       "      <td>2</td>\n",
       "      <td>F92FF77DEEB540FFBEAA1A76A1574427206</td>\n",
       "      <td>[array([-2.72363633e-01, -3.51571441e-01, -5.9...</td>\n",
       "      <td>0.001070</td>\n",
       "      <td>0.000800</td>\n",
       "      <td>15</td>\n",
       "      <td>8</td>\n",
       "    </tr>\n",
       "    <tr>\n",
       "      <th>3</th>\n",
       "      <td>3</td>\n",
       "      <td>5821C1E0DF3240118CA39013E1E8CFED206</td>\n",
       "      <td>[array([-0.24757737, -0.3919592 , -0.5711255 ,...</td>\n",
       "      <td>0.000514</td>\n",
       "      <td>0.000466</td>\n",
       "      <td>18</td>\n",
       "      <td>8</td>\n",
       "    </tr>\n",
       "    <tr>\n",
       "      <th>4</th>\n",
       "      <td>4</td>\n",
       "      <td>AF3D6FCFBD054BCB86A03D57BAF073A6206</td>\n",
       "      <td>[array([-1.84394434e-01, -3.83317232e-01, -5.8...</td>\n",
       "      <td>0.000466</td>\n",
       "      <td>0.000466</td>\n",
       "      <td>10</td>\n",
       "      <td>10</td>\n",
       "    </tr>\n",
       "    <tr>\n",
       "      <th>...</th>\n",
       "      <td>...</td>\n",
       "      <td>...</td>\n",
       "      <td>...</td>\n",
       "      <td>...</td>\n",
       "      <td>...</td>\n",
       "      <td>...</td>\n",
       "      <td>...</td>\n",
       "    </tr>\n",
       "    <tr>\n",
       "      <th>24995</th>\n",
       "      <td>24995</td>\n",
       "      <td>EE022B08D3E845B48C05765750658627206</td>\n",
       "      <td>[array([-1.84042796e-01, -3.68921787e-01, -5.6...</td>\n",
       "      <td>0.000377</td>\n",
       "      <td>0.000377</td>\n",
       "      <td>22</td>\n",
       "      <td>22</td>\n",
       "    </tr>\n",
       "    <tr>\n",
       "      <th>24996</th>\n",
       "      <td>24996</td>\n",
       "      <td>52C77D7F170E43379EE4BE4B6F2EAAC3206</td>\n",
       "      <td>[array([-0.2660032 , -0.3723642 , -0.5636557 ,...</td>\n",
       "      <td>0.000513</td>\n",
       "      <td>0.000513</td>\n",
       "      <td>8</td>\n",
       "      <td>8</td>\n",
       "    </tr>\n",
       "    <tr>\n",
       "      <th>24997</th>\n",
       "      <td>24997</td>\n",
       "      <td>D105E52E5BEC421A9997E73BA7972D7D206</td>\n",
       "      <td>[array([-0.19452327, -0.3731445 , -0.5522237 ,...</td>\n",
       "      <td>0.000753</td>\n",
       "      <td>0.000639</td>\n",
       "      <td>23</td>\n",
       "      <td>4</td>\n",
       "    </tr>\n",
       "    <tr>\n",
       "      <th>24998</th>\n",
       "      <td>24998</td>\n",
       "      <td>C68E38838DE746C6871B763E42F90B1A206</td>\n",
       "      <td>[array([-0.19274597, -0.35365516, -0.55021644,...</td>\n",
       "      <td>0.000554</td>\n",
       "      <td>0.000554</td>\n",
       "      <td>11</td>\n",
       "      <td>11</td>\n",
       "    </tr>\n",
       "    <tr>\n",
       "      <th>24999</th>\n",
       "      <td>24999</td>\n",
       "      <td>DCEC3C2952A140FAA703DC98BC468331206</td>\n",
       "      <td>[array([-1.92629188e-01, -3.49006027e-01, -5.8...</td>\n",
       "      <td>0.000667</td>\n",
       "      <td>0.000665</td>\n",
       "      <td>2</td>\n",
       "      <td>22</td>\n",
       "    </tr>\n",
       "  </tbody>\n",
       "</table>\n",
       "<p>25000 rows × 7 columns</p>\n",
       "</div>"
      ],
      "text/plain": [
       "       Unnamed: 0                                    0  \\\n",
       "0               0  BB52BEE967694542B309F1924878C1D8206   \n",
       "1               1  169FC71888B64710B6CA2836A73D2BFA206   \n",
       "2               2  F92FF77DEEB540FFBEAA1A76A1574427206   \n",
       "3               3  5821C1E0DF3240118CA39013E1E8CFED206   \n",
       "4               4  AF3D6FCFBD054BCB86A03D57BAF073A6206   \n",
       "...           ...                                  ...   \n",
       "24995       24995  EE022B08D3E845B48C05765750658627206   \n",
       "24996       24996  52C77D7F170E43379EE4BE4B6F2EAAC3206   \n",
       "24997       24997  D105E52E5BEC421A9997E73BA7972D7D206   \n",
       "24998       24998  C68E38838DE746C6871B763E42F90B1A206   \n",
       "24999       24999  DCEC3C2952A140FAA703DC98BC468331206   \n",
       "\n",
       "                                                       1         2         3  \\\n",
       "0      [array([-0.22878039, -0.41120726, -0.5793576 ,...  0.000660  0.000660   \n",
       "1      [array([-0.22317335, -0.3341324 , -0.5560438 ,...  0.001082  0.000780   \n",
       "2      [array([-2.72363633e-01, -3.51571441e-01, -5.9...  0.001070  0.000800   \n",
       "3      [array([-0.24757737, -0.3919592 , -0.5711255 ,...  0.000514  0.000466   \n",
       "4      [array([-1.84394434e-01, -3.83317232e-01, -5.8...  0.000466  0.000466   \n",
       "...                                                  ...       ...       ...   \n",
       "24995  [array([-1.84042796e-01, -3.68921787e-01, -5.6...  0.000377  0.000377   \n",
       "24996  [array([-0.2660032 , -0.3723642 , -0.5636557 ,...  0.000513  0.000513   \n",
       "24997  [array([-0.19452327, -0.3731445 , -0.5522237 ,...  0.000753  0.000639   \n",
       "24998  [array([-0.19274597, -0.35365516, -0.55021644,...  0.000554  0.000554   \n",
       "24999  [array([-1.92629188e-01, -3.49006027e-01, -5.8...  0.000667  0.000665   \n",
       "\n",
       "        4   5  \n",
       "0       5   5  \n",
       "1      19  11  \n",
       "2      15   8  \n",
       "3      18   8  \n",
       "4      10  10  \n",
       "...    ..  ..  \n",
       "24995  22  22  \n",
       "24996   8   8  \n",
       "24997  23   4  \n",
       "24998  11  11  \n",
       "24999   2  22  \n",
       "\n",
       "[25000 rows x 7 columns]"
      ]
     },
     "execution_count": 123,
     "metadata": {},
     "output_type": "execute_result"
    }
   ],
   "source": [
    "df"
   ]
  },
  {
   "cell_type": "code",
   "execution_count": null,
   "metadata": {},
   "outputs": [],
   "source": [
    "\n"
   ]
  }
 ],
 "metadata": {
  "kernelspec": {
   "display_name": "Python 3",
   "language": "python",
   "name": "python3"
  },
  "language_info": {
   "codemirror_mode": {
    "name": "ipython",
    "version": 3
   },
   "file_extension": ".py",
   "mimetype": "text/x-python",
   "name": "python",
   "nbconvert_exporter": "python",
   "pygments_lexer": "ipython3",
   "version": "3.7.3"
  }
 },
 "nbformat": 4,
 "nbformat_minor": 4
}
